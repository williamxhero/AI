{
 "cells": [
  {
   "cell_type": "code",
   "execution_count": 1,
   "metadata": {},
   "outputs": [],
   "source": [
    "import torch\n",
    "import numpy as np"
   ]
  },
  {
   "cell_type": "markdown",
   "metadata": {},
   "source": [
    "用LSTM去学习ABCDE……ZABC…… 这个字母顺序，给出一个字母，可以说出下一个字母"
   ]
  },
  {
   "cell_type": "code",
   "execution_count": 2,
   "metadata": {
    "tags": []
   },
   "outputs": [
    {
     "output_type": "stream",
     "name": "stdout",
     "text": "26 {'A': 0, 'B': 1, 'C': 2, 'D': 3, 'E': 4, 'F': 5, 'G': 6, 'H': 7, 'I': 8, 'J': 9, 'K': 10, 'L': 11, 'M': 12, 'N': 13, 'O': 14, 'P': 15, 'Q': 16, 'R': 17, 'S': 18, 'T': 19, 'U': 20, 'V': 21, 'W': 22, 'X': 23, 'Y': 24, 'Z': 25}\n"
    }
   ],
   "source": [
    "\n",
    "text='ABCDEFGHIJKLMNOPQRSTUVWXYZ'\n",
    "# if there are some repeat values, we need to use set.\n",
    "tset = set(text)\n",
    "# char to index\n",
    "c2i = {c:i for i,c in enumerate(text)}\n",
    "VOCAB_N = len(tset)\n",
    "print(VOCAB_N, c2i)"
   ]
  },
  {
   "cell_type": "code",
   "execution_count": 3,
   "metadata": {},
   "outputs": [],
   "source": [
    "device = torch.device(\"cpu\")\n",
    "\n",
    "def FloatTensor(x):\n",
    "    return torch.tensor(x, device=device, dtype=torch.float)\n",
    "\n",
    "def LongTensor(x):\n",
    "    return torch.tensor(x, device=device, dtype=torch.long)\n",
    "\n",
    "class Network(torch.nn.Module):\n",
    "    def __init__(self, vocab_num = VOCAB_N, input=1, output=1, hidden=32):\n",
    "        torch.nn.Module.__init__(self)\n",
    "        self.eb = torch.nn.Embedding(vocab_num, hidden)\n",
    "        self.l1 = torch.nn.LSTM(hidden, hidden, 1, batch_first=True)\n",
    "        self.l2 = torch.nn.Linear(hidden, output)\n",
    "        self.relu = torch.nn.ReLU()\n",
    "\n",
    "    def forward(self, x):\n",
    "        x = self.eb(x)\n",
    "        x, h = self.l1(x)\n",
    "        x = self.l2(x)\n",
    "        x = self.relu(x) # x >= 0\n",
    "        return x\n",
    "\n",
    "\n",
    "m = Network()\n",
    "loss_f = torch.nn.MSELoss()\n",
    "opt = torch.optim.Adam(m.parameters(), 0.001)"
   ]
  },
  {
   "cell_type": "code",
   "execution_count": 4,
   "metadata": {
    "tags": []
   },
   "outputs": [
    {
     "output_type": "stream",
     "name": "stdout",
     "text": "epoch 0, loss:1.0\nepoch 50, loss:220.72453033447266\nepoch 100, loss:194.67828525543212\nepoch 150, loss:192.6551647886634\nepoch 200, loss:184.24432769969107\nepoch 250, loss:170.74763990892097\nepoch 300, loss:150.59333532601596\nepoch 350, loss:128.01101777556556\nepoch 400, loss:108.24093252718448\nepoch 450, loss:88.46506323248148\nepoch 500, loss:70.82479397444054\nepoch 550, loss:56.856736540347335\nepoch 600, loss:46.03324370814487\nepoch 650, loss:37.86420858413796\nepoch 700, loss:31.479401640412753\nepoch 750, loss:22.025321021117747\nepoch 800, loss:20.78806176149752\nepoch 850, loss:18.947297332054003\nepoch 900, loss:17.487916020080448\nepoch 950, loss:15.285903479396366\nepoch 1000, loss:13.323001085188007\nepoch 1050, loss:11.446214171423271\nepoch 1100, loss:9.842094578262477\nepoch 1150, loss:8.670699112225556\nepoch 1200, loss:7.580323329973035\nepoch 1250, loss:6.64620992921009\nepoch 1300, loss:5.876570167769805\nepoch 1350, loss:5.219863151721402\nepoch 1400, loss:3.323397108706704\nepoch 1450, loss:3.780611239715672\nepoch 1500, loss:3.8070987619487457\nepoch 1550, loss:3.572505846597778\nepoch 1600, loss:3.0950766378140404\nepoch 1650, loss:2.9958737682522996\nepoch 1700, loss:2.7264573326727257\nepoch 1750, loss:2.452792088800925\nepoch 1800, loss:2.1487561352779725\nepoch 1850, loss:1.9034949412076503\nepoch 1900, loss:1.7209277986691085\nepoch 1950, loss:1.5477661043842819\nepoch 2000, loss:1.3812842521970379\nepoch 2050, loss:0.7503501519217798\nepoch 2100, loss:1.0795205145698037\nepoch 2150, loss:1.0602980278363066\nepoch 2200, loss:0.9624530624508998\nepoch 2250, loss:0.8797185182576868\nepoch 2300, loss:0.8030071001296255\nepoch 2350, loss:0.7326118008789081\nepoch 2400, loss:0.6693597223084998\nepoch 2450, loss:0.6150393647557212\nepoch 2500, loss:0.5694856064796567\nepoch 2550, loss:0.531131523002523\nepoch 2600, loss:0.49873910579410674\nepoch 2650, loss:0.47133876998391316\nepoch 2700, loss:0.2647901899146427\nepoch 2750, loss:0.43249796612790303\nepoch 2800, loss:0.38769936573304675\nepoch 2850, loss:0.40336925541831986\nepoch 2900, loss:0.3887726369467782\nepoch 2950, loss:0.377405461927049\nepoch 3000, loss:0.3664858503598953\nepoch 3050, loss:0.3566184982512425\nepoch 3100, loss:0.3477773117112383\nepoch 3150, loss:0.34048742299574314\nepoch 3200, loss:0.33533153824089823\nepoch 3250, loss:0.3532057073622127\nepoch 3300, loss:0.4329179134311562\nepoch 3350, loss:0.35155723395597305\nepoch 3400, loss:0.4052978634705687\nepoch 3450, loss:0.34679597429465503\nepoch 3500, loss:0.3318709001137904\nepoch 3550, loss:0.29856662232094094\nepoch 3600, loss:0.27831980008348184\nepoch 3650, loss:0.2624433211471478\nepoch 3700, loss:0.2474437850072718\nepoch 3750, loss:0.22982882161370072\nepoch 3800, loss:0.20668863292623427\nepoch 3850, loss:0.18326087921190265\nepoch 3900, loss:0.16985643864674785\nepoch 3950, loss:0.16126881614825833\nepoch 4000, loss:0.09506744668648025\nepoch 4050, loss:0.13500405187551223\nepoch 4100, loss:0.1444982352953093\nepoch 4150, loss:0.1401673330428639\nepoch 4200, loss:0.142477794704173\nepoch 4250, loss:0.1748352599274949\nepoch 4300, loss:0.24915111429523676\nepoch 4350, loss:0.29214381011435764\nepoch 4400, loss:0.21577303808211581\nepoch 4450, loss:0.13687115385611834\nepoch 4500, loss:0.09242345164981089\nepoch 4550, loss:0.07060009078362782\nepoch 4600, loss:0.059106257780094894\nepoch 4650, loss:0.02821919957148566\nepoch 4700, loss:0.047436836478941584\nepoch 4750, loss:0.041680477343948044\nepoch 4800, loss:0.03815549187435408\nepoch 4850, loss:0.03525537652991375\nepoch 4900, loss:0.033792467769912946\nepoch 4950, loss:0.034098000733652045\nepoch 5000, loss:0.03960662562386005\nepoch 5050, loss:0.04766853890672792\nepoch 5100, loss:0.06679681742658432\nepoch 5150, loss:0.0878468040243024\nepoch 5200, loss:0.10959684653702424\nepoch 5250, loss:0.12405271163590442\nepoch 5300, loss:0.11032678945572115\nepoch 5350, loss:0.08773658727644942\nepoch 5400, loss:0.05727096974624146\nepoch 5450, loss:0.03919223662356672\nepoch 5500, loss:0.02963157352307462\nepoch 5550, loss:0.023511453642277046\nepoch 5600, loss:0.01908737751255103\nepoch 5650, loss:0.01709847458780132\nepoch 5700, loss:0.01915539914425608\nepoch 5750, loss:0.024089056323937257\nepoch 5800, loss:0.03050954263198946\nepoch 5850, loss:0.03517460561532062\nepoch 5900, loss:0.03329982002353063\nepoch 5950, loss:0.02350777562300209\nepoch 6000, loss:0.021802208191074895\nepoch 6050, loss:0.02683845886191193\nepoch 6100, loss:0.0470509869018133\nepoch 6150, loss:0.0615809915695354\nepoch 6200, loss:0.0937943308443937\nepoch 6250, loss:0.16340559666830815\nepoch 6300, loss:0.17991512264939957\nepoch 6350, loss:0.07140432310428878\nepoch 6400, loss:0.026194287913458538\nepoch 6450, loss:0.01021665766442311\nepoch 6500, loss:0.005364058843942985\nepoch 6550, loss:0.0037133468527463264\nepoch 6600, loss:0.002385068834937556\nepoch 6650, loss:0.0032038314923556756\nepoch 6700, loss:0.003757603754856973\nepoch 6750, loss:0.005330516758349404\nepoch 6800, loss:0.008935622829667408\nepoch 6850, loss:0.01516850426531164\nepoch 6900, loss:0.026758476837931085\nepoch 6950, loss:0.04966954565872584\nepoch 7000, loss:0.06654408327718557\nepoch 7050, loss:0.09097698444915295\nepoch 7100, loss:0.09251313634013059\nepoch 7150, loss:0.0715785993461759\nepoch 7200, loss:0.044574095006100836\nepoch 7250, loss:0.02266942326992648\nepoch 7300, loss:0.010205070260926732\nepoch 7350, loss:0.005843244634743314\nepoch 7400, loss:0.009392550257543916\nepoch 7450, loss:0.016436753512534777\nepoch 7500, loss:0.023989156107854796\nepoch 7550, loss:0.037456450914692144\nepoch 7600, loss:0.07750650336653052\nepoch 7650, loss:0.09823898747126805\nepoch 7700, loss:0.05253503809894028\nepoch 7750, loss:0.028993713085728814\nepoch 7800, loss:0.03565743416780606\nepoch 7850, loss:0.03990609516855329\nepoch 7900, loss:0.02912895900903095\nepoch 7950, loss:0.017715161068263114\nepoch 8000, loss:0.024243194835216853\n"
    }
   ],
   "source": [
    "tensor_text = LongTensor([c2i[c] for c in text])\n",
    "tensor_textn = FloatTensor([c2i[c] for c in text])\n",
    "m.train()\n",
    "\n",
    "losses = []\n",
    "for i in range(8000+1):\n",
    "    ix = i % (VOCAB_N)\n",
    "    # character\n",
    "    thist = tensor_text[ix]\n",
    "    # next character，if ends, next is A\n",
    "    inx = ix + 1 if ix < (VOCAB_N-1) else 0\n",
    "    # predict value\n",
    "    pn = m(LongTensor([[thist]]))\n",
    "    # true value\n",
    "    nextt = tensor_textn[inx]\n",
    "    # learn\n",
    "    loss = loss_f(nextt, pn)\n",
    "    opt.zero_grad()\n",
    "    loss.backward()\n",
    "    opt.step()\n",
    "\n",
    "    # plot average loss:\n",
    "    losses.append(loss.item())\n",
    "    if i % 50 == 0:\n",
    "        eva_loss = np.average(losses)\n",
    "        print('epoch {}, loss:{}'.format(i, eva_loss))\n",
    "        losses = []\n",
    "    \n"
   ]
  },
  {
   "cell_type": "code",
   "execution_count": 11,
   "metadata": {
    "tags": []
   },
   "outputs": [
    {
     "output_type": "stream",
     "name": "stdout",
     "text": "ABCDEFGHIJKLMNOPQRSTUVWXYZABCDEFGHIJKLMNOPQRSTUVWXYZ\n"
    }
   ],
   "source": [
    "# try it.\n",
    "m.eval()\n",
    "chars = ['A']\n",
    "for i in range(51):\n",
    "    char_idx = c2i[chars[-1]]\n",
    "    pn = m(LongTensor([[char_idx]]))\n",
    "    ti = round(pn.item())\n",
    "    nt = text[ti] if ti < VOCAB_N else 'A'\n",
    "    chars.append(nt)\n",
    "\n",
    "print(''.join(chars))"
   ]
  }
 ],
 "metadata": {
  "language_info": {
   "codemirror_mode": {
    "name": "ipython",
    "version": 3
   },
   "file_extension": ".py",
   "mimetype": "text/x-python",
   "name": "python",
   "nbconvert_exporter": "python",
   "pygments_lexer": "ipython3",
   "version": "3.7.7-final"
  },
  "orig_nbformat": 2,
  "kernelspec": {
   "name": "python_defaultSpec_1596070793890",
   "display_name": "Python 3.8.2 64-bit"
  }
 },
 "nbformat": 4,
 "nbformat_minor": 2
}